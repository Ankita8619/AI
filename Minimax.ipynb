{
 "cells": [
  {
   "cell_type": "code",
   "execution_count": 1,
   "metadata": {},
   "outputs": [],
   "source": [
    "import json"
   ]
  },
  {
   "cell_type": "code",
   "execution_count": 2,
   "metadata": {},
   "outputs": [
    {
     "name": "stdout",
     "output_type": "stream",
     "text": [
      " _ N __ O __ N \n",
      " _ O __ N __ N \n",
      " _ N __ N __ N\n"
     ]
    }
   ],
   "source": [
    "def display_board(state):\n",
    "    print(' _', state[0], '__', state[1], '__', state[2], '\\n', '_', state[3], '__', state[4], '__', state[5], '\\n', '_', state[6], '__', state[7], '__', state[8])\n",
    "\n",
    "display_board('NONONNNNN')"
   ]
  },
  {
   "cell_type": "code",
   "execution_count": 3,
   "metadata": {},
   "outputs": [],
   "source": [
    "def check_terminal(state):\n",
    "    if state[0] == state[1] == state[2] == 'O':\n",
    "        return (True, 1)\n",
    "    elif state[3] == state[4] == state[5] == 'O':\n",
    "        return (True, 1)\n",
    "    elif state[6] == state[7] == state[8] == 'O':\n",
    "        return (True, 1)\n",
    "    elif state[0] == state[3] == state[6] == 'O':\n",
    "        return (True, 1)\n",
    "    elif state[1] == state[4] == state[7] == 'O':\n",
    "        return (True, 1)\n",
    "    elif state[2] == state[5] == state[8] == 'O':\n",
    "        return (True, 1)\n",
    "    elif state[0] == state[4] == state[8] == 'O':\n",
    "        return (True, 1)\n",
    "    elif state[2] == state[4] == state[6] == 'O':\n",
    "        return (True, 1)\n",
    "    \n",
    "    # Remaining checks for 'X' winning combinations\n",
    "    elif state[0] == state[1] == state[2] == 'X':\n",
    "        return (True, -1)\n",
    "    elif state[3] == state[4] == state[5] == 'X':\n",
    "        return (True, -1)\n",
    "    elif state[6] == state[7] == state[8] == 'X':\n",
    "        return (True, -1)\n",
    "    elif state[0] == state[3] == state[6] == 'X':\n",
    "        return (True, -1)\n",
    "    elif state[1] == state[4] == state[7] == 'X':\n",
    "        return (True, -1)    \n",
    "    elif state[2] == state[5] == state[8] == 'X':\n",
    "        return (True, -1)\n",
    "    elif state[0] == state[4] == state[8] == 'X':\n",
    "        return (True, -1)\n",
    "    elif state[2] == state[4] == state[6] == 'X':\n",
    "        return (True, -1)\n",
    "    \n",
    "    for row in state:\n",
    "        if row == 'N':\n",
    "            return (False, 0)\n",
    "    return (True, 0)\n"
   ]
  },
  {
   "cell_type": "code",
   "execution_count": 4,
   "metadata": {},
   "outputs": [],
   "source": [
    "def is_terminal_state(state):\n",
    "    return check_terminal(state)[0]"
   ]
  },
  {
   "cell_type": "code",
   "execution_count": 5,
   "metadata": {},
   "outputs": [],
   "source": [
    "def get_win_score(state):\n",
    "    return check_terminal(state)[1]"
   ]
  },
  {
   "cell_type": "code",
   "execution_count": 6,
   "metadata": {},
   "outputs": [
    {
     "data": {
      "text/plain": [
       "'NNNONNNNN'"
      ]
     },
     "execution_count": 6,
     "metadata": {},
     "output_type": "execute_result"
    }
   ],
   "source": [
    "def modify_state(state, position, player):\n",
    "    new_state = state[:]\n",
    "    updated_state = ''\n",
    "    for i in range(len(state)):\n",
    "        if i == position and state[i] != 'O' and state[i] != 'X':\n",
    "            updated_state += player\n",
    "        else:\n",
    "            updated_state += new_state[i]\n",
    "    return updated_state\n",
    "\n",
    "modify_state('NNNNNNNNN', 3, 'O')   "
   ]
  },
  {
   "cell_type": "code",
   "execution_count": 7,
   "metadata": {},
   "outputs": [],
   "source": [
    "def minimax_algorithm(state, player):\n",
    "    if is_terminal_state(state):\n",
    "        win = {\n",
    "            'state': state,\n",
    "            'player': player,\n",
    "            'score': get_win_score(state)\n",
    "        }\n",
    "        return win\n",
    "\n",
    "    record = {\n",
    "        'state': state,\n",
    "        'player': player,\n",
    "        'score': None,\n",
    "        'children': []\n",
    "    }\n",
    "\n",
    "    opponent = 'O' if player == 'X' else 'X'\n",
    "\n",
    "    for i, j in enumerate(state):\n",
    "        if j == 'N':\n",
    "            updated_state = modify_state(state, i, player)\n",
    "            child_result = minimax_algorithm(updated_state, opponent)\n",
    "            record['children'].append(child_result)\n",
    "\n",
    "    max_score = float('-inf')\n",
    "    min_score = float('inf')\n",
    "    if record['player'] == 'O':\n",
    "        for i in record['children']:\n",
    "            if max_score <= i['score']:\n",
    "                max_score = i['score']\n",
    "        record['score'] = max_score\n",
    "    elif record['player'] == 'X':\n",
    "        for i in record['children']:\n",
    "            if min_score >= i['score']:\n",
    "                min_score = i['score']\n",
    "        record['score'] = min_score\n",
    "\n",
    "    return record\n",
    "\n",
    "\n",
    "\n",
    "# Example usage\n",
    "k = minimax_algorithm('NNNNNNNNN', 'O')\n",
    "# print(k)"
   ]
  },
  {
   "cell_type": "code",
   "execution_count": 8,
   "metadata": {},
   "outputs": [],
   "source": [
    "import json\n",
    "with open('game_tree.json', 'w+') as f:\n",
    "    json.dump(k,f)"
   ]
  },
  {
   "cell_type": "code",
   "execution_count": 9,
   "metadata": {},
   "outputs": [
    {
     "name": "stdout",
     "output_type": "stream",
     "text": [
      "NNONNNNNN\n"
     ]
    }
   ],
   "source": [
    "def player_move(state, index, player):\n",
    "    new_state = modify_state(state, index, player)\n",
    "    return new_state\n",
    "k1 = player_move('NNNNNNNNN',2,'O')\n",
    "print(k1)"
   ]
  },
  {
   "cell_type": "code",
   "execution_count": 10,
   "metadata": {},
   "outputs": [],
   "source": [
    "def graph_tree(game_tree):\n",
    "    state = game_tree['state']\n",
    "    score = game_tree['score']\n",
    "    if state not in parent:\n",
    "        parent[state] = score\n",
    "    else:\n",
    "        if parent[state] < score:\n",
    "            parent[state] = score\n",
    "\n",
    "    if is_terminal_state(state):\n",
    "        return\n",
    "    for new_row in game_tree['children']:\n",
    "        graph_tree(new_row)\n",
    "\n",
    "with open('game_tree.json', 'r') as f:\n",
    "    game_tree = json.load(f)\n",
    "\n",
    "parent = {}\n",
    "graph_tree(game_tree)\n"
   ]
  },
  {
   "cell_type": "code",
   "execution_count": 11,
   "metadata": {},
   "outputs": [],
   "source": [
    "def computer_move(state, player):\n",
    "    best_move_list = []\n",
    "    best_move = state\n",
    "\n",
    "    for i, j in enumerate(state):\n",
    "        if j == 'N':\n",
    "            new_state = modify_state(state, i, player)\n",
    "            best_move_list.append(new_state)\n",
    "    \n",
    "    max_score = float('inf')\n",
    "    for move in best_move_list:\n",
    "        if move in parent:\n",
    "            if max_score > parent[move]:\n",
    "                max_score = parent[move]\n",
    "                best_move = move\n",
    "    return best_move"
   ]
  },
  {
   "cell_type": "code",
   "execution_count": 21,
   "metadata": {},
   "outputs": [
    {
     "name": "stdout",
     "output_type": "stream",
     "text": [
      " _ N __ N __ N \n",
      " _ N __ N __ N \n",
      " _ N __ N __ N\n",
      "_____________\n",
      " _ X __ N __ N \n",
      " _ N __ O __ N \n",
      " _ N __ N __ N\n",
      "_____________\n",
      " _ X __ N __ N \n",
      " _ X __ O __ O \n",
      " _ N __ N __ N\n",
      "_____________\n",
      " _ X __ N __ X \n",
      " _ X __ O __ O \n",
      " _ O __ N __ N\n",
      "_____________\n",
      " _ X __ O __ X \n",
      " _ X __ O __ O \n",
      " _ O __ X __ N\n",
      "_____________\n",
      " _ X __ O __ X \n",
      " _ X __ O __ O \n",
      " _ O __ X __ N\n",
      "_____________\n",
      " _ X __ O __ X \n",
      " _ X __ O __ O \n",
      " _ O __ X __ O\n",
      "_____________\n",
      "It's a draw!\n"
     ]
    }
   ],
   "source": [
    "state = \"NNNNNNNNN\"\n",
    "display_board(state)\n",
    "\n",
    "while True:\n",
    "    print('_____________')\n",
    "    if is_terminal_state(state):\n",
    "        if get_win_score(state) == 1:\n",
    "            print(\"Player wins!\")\n",
    "            break\n",
    "        elif get_win_score(state) == -1:\n",
    "            print(\"Computer wins!\")\n",
    "            break\n",
    "        elif get_win_score(state) == 0:\n",
    "            print(\"It's a draw!\")\n",
    "            break\n",
    "    player_index = int(input(\"Enter the index for player's turn: \"))\n",
    "    state = player_move(state, player_index, \"O\")\n",
    "    state = computer_move(state, \"X\")\n",
    "    \n",
    "    display_board(state)"
   ]
  }
 ],
 "metadata": {
  "kernelspec": {
   "display_name": "base",
   "language": "python",
   "name": "python3"
  },
  "language_info": {
   "codemirror_mode": {
    "name": "ipython",
    "version": 3
   },
   "file_extension": ".py",
   "mimetype": "text/x-python",
   "name": "python",
   "nbconvert_exporter": "python",
   "pygments_lexer": "ipython3",
   "version": "3.9.12"
  }
 },
 "nbformat": 4,
 "nbformat_minor": 2
}
