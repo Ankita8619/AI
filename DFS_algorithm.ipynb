{
  "nbformat": 4,
  "nbformat_minor": 0,
  "metadata": {
    "colab": {
      "provenance": [],
      "authorship_tag": "ABX9TyPMKjhJmwc1gz9tGI5ddkAH",
      "include_colab_link": true
    },
    "kernelspec": {
      "name": "python3",
      "display_name": "Python 3"
    },
    "language_info": {
      "name": "python"
    }
  },
  "cells": [
    {
      "cell_type": "markdown",
      "metadata": {
        "id": "view-in-github",
        "colab_type": "text"
      },
      "source": [
        "<a href=\"https://colab.research.google.com/github/Ankita8619/AI/blob/main/DFS_algorithm.ipynb\" target=\"_parent\"><img src=\"https://colab.research.google.com/assets/colab-badge.svg\" alt=\"Open In Colab\"/></a>"
      ]
    },
    {
      "cell_type": "markdown",
      "source": [
        "DFS algorithm: Depth-First Search (DFS) is a graph traversal algorithm used to explore or search through a graph or tree data structure. It is called \"depth-first\" because it explores as far as possible along a branch before backtracking. DFS is often used to find paths, cycles, or connected components within a graph. Here we are writing the algorithm for 'DFS' using python programming."
      ],
      "metadata": {
        "id": "rd7jOI7jMqj7"
      }
    },
    {
      "cell_type": "code",
      "source": [
        "tree = {\n",
        "    'A': ['B', 'C'],\n",
        "    'B': ['D', 'E'],\n",
        "    'C': ['F', 'G'],\n",
        "    'D': [],\n",
        "    'E': ['H'],\n",
        "    'F': [],\n",
        "    'G': ['I', 'J'],\n",
        "    'H': [],\n",
        "    'I': [],\n",
        "    'J': []\n",
        "}"
      ],
      "metadata": {
        "id": "5WMYsHcmJ-ID"
      },
      "execution_count": 43,
      "outputs": []
    },
    {
      "cell_type": "code",
      "source": [
        "graph = {\n",
        "    'A': ['B', 'C'],\n",
        "    'B': ['D', 'E'],\n",
        "    'C': ['F', 'G'],\n",
        "    'D': ['A'],\n",
        "    'E': ['H'],\n",
        "    'F': ['A'],\n",
        "    'G': ['I', 'J'],\n",
        "    'H': ['B'],\n",
        "    'I': ['K'],\n",
        "    'J': ['G'],\n",
        "    'K': ['I']\n",
        "}"
      ],
      "metadata": {
        "id": "jCVuo6KrKD1y"
      },
      "execution_count": 44,
      "outputs": []
    },
    {
      "cell_type": "code",
      "execution_count": 45,
      "metadata": {
        "colab": {
          "base_uri": "https://localhost:8080/"
        },
        "id": "a3fGjGbvgalU",
        "outputId": "d4910c25-ac15-4fb0-fc60-18f9afec3b72"
      },
      "outputs": [
        {
          "output_type": "stream",
          "name": "stdout",
          "text": [
            "A\n",
            "B\n",
            "D\n",
            "E\n",
            "H\n",
            "C\n",
            "F\n",
            "G\n",
            "I\n",
            "K\n",
            "J\n"
          ]
        }
      ],
      "source": [
        "# graph = tree\n",
        "visited_list = []\n",
        "\n",
        "# Function to traverse the graph or a tree\n",
        "def DFS(node1):\n",
        "  global graph, visited_list\n",
        "\n",
        "  # If node is not visited then check\n",
        "  if node1 not in visited_list:\n",
        "    print(node1)\n",
        "    visited_list.append(node1)\n",
        "\n",
        "    # Recursion\n",
        "    for i in graph[node1]:\n",
        "      DFS(i)\n",
        "DFS('A')\n",
        "# print(visited_list)"
      ]
    },
    {
      "cell_type": "code",
      "execution_count": 39,
      "metadata": {
        "colab": {
          "base_uri": "https://localhost:8080/"
        },
        "outputId": "02523951-6d11-4fc0-deae-88620bd51b8d",
        "id": "shqRunw6_inX"
      },
      "outputs": [
        {
          "output_type": "stream",
          "name": "stdout",
          "text": [
            "A\n",
            "B\n",
            "D\n",
            "E\n"
          ]
        }
      ],
      "source": [
        "# graph = tree\n",
        "visited_list = []\n",
        "\n",
        "# function to reach the target node from starting node\n",
        "def find_node2(node1, node2):\n",
        "  global graph, visited_list\n",
        "\n",
        "  # if the node is not visited then check\n",
        "  if node1 not in visited_list:\n",
        "    print(node1)\n",
        "    visited_list.append(node1)\n",
        "    for i in graph[node1]:\n",
        "      if node2 in visited_list:\n",
        "        break\n",
        "      find_node2(i, node2)\n",
        "find_node2('A', 'E')"
      ]
    },
    {
      "cell_type": "code",
      "source": [
        "# Define a graph represented as an adjacency list\n",
        "# graph = {\n",
        "#     'A': ['B', 'C'],\n",
        "#     'B': ['A', 'D', 'E'],\n",
        "#     'C': ['A', 'F'],\n",
        "#     'D': ['B'],\n",
        "#     'E': ['B', 'F'],\n",
        "#     'F': ['C', 'E']\n",
        "# }\n",
        "\n",
        "# adj_dic = {'Frankfurt':['Mainhein','Wurtzburg','Kassel'],'Mainhein':['Karlsruhe','Frankfurt'],'Karlsruhe':['Ausburg','Mainhein'],'Ausburg':['Karlsruhe'],'Wurtzburg':['Frankfurt','Numberg','Erfurt'],'Numberg':['Stuttgart','Wurtzburg'],'Stuttgart':['Numberg'],'Erfurt':['Wurtzburg'],'Kassel':['Frankfurt','Munchen'],'Munchen':['Kassel']}\n",
        "# graph = adj_dic\n",
        "\n",
        "# Function to perform DFS to find a path between two nodes\n",
        "def dfs(graph, start, end, path=[]):\n",
        "    # Add the current node to the path\n",
        "    path = path + [start]\n",
        "\n",
        "    # If the current node is the same as the end node, we found a path\n",
        "    if start == end:\n",
        "        return path\n",
        "\n",
        "    # If the current node is not in the graph, return None\n",
        "    if start not in graph:\n",
        "        return None\n",
        "\n",
        "    # Explore each neighbor of the current node recursively\n",
        "    for neighbor in graph[start]:\n",
        "        # Skip nodes that have already been visited\n",
        "        if neighbor not in path:\n",
        "            new_path = dfs(graph, neighbor, end, path)\n",
        "            if new_path:\n",
        "                return new_path\n",
        "\n",
        "    # If no path is found, return None\n",
        "    return None\n",
        "\n",
        "# Example usage:\n",
        "start_node = 'A'\n",
        "end_node = 'J'\n",
        "result = dfs(graph, start_node, end_node)\n",
        "# print(result)\n",
        "\n",
        "if result:\n",
        "    print(f\"Path from {start_node} to {end_node}: {result}\")\n",
        "else:\n",
        "    print(f\"No path found from {start_node} to {end_node}\")"
      ],
      "metadata": {
        "colab": {
          "base_uri": "https://localhost:8080/"
        },
        "id": "QnwHJmp6_61b",
        "outputId": "4c4be438-005f-4e9e-8691-0803d7494d8d"
      },
      "execution_count": 42,
      "outputs": [
        {
          "output_type": "stream",
          "name": "stdout",
          "text": [
            "Path from A to J: ['A', 'C', 'G', 'J']\n"
          ]
        }
      ]
    }
  ]
}